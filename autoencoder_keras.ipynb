{
  "nbformat": 4,
  "nbformat_minor": 0,
  "metadata": {
    "colab": {
      "name": "Untitled0.ipynb",
      "provenance": [],
      "authorship_tag": "ABX9TyOb5idFIGFVbtGyGYhYO3DO"
    },
    "kernelspec": {
      "name": "python3",
      "display_name": "Python 3"
    }
  },
  "cells": [
    {
      "cell_type": "code",
      "metadata": {
        "id": "PK8Q6Dhc2I51",
        "colab_type": "code",
        "colab": {}
      },
      "source": [
        "from keras import Model\n",
        "from keras.layers import Input, Dense\n",
        "from keras.datasets import mnist\n",
        "import numpy as np"
      ],
      "execution_count": 0,
      "outputs": []
    },
    {
      "cell_type": "code",
      "metadata": {
        "id": "bIAWCQ6T2azL",
        "colab_type": "code",
        "colab": {}
      },
      "source": [
        "encoding_dim = 64\n",
        "# image 24x24 = 784\n",
        "input_img = Input(shape=(784,))\n",
        "encoded = Dense(256, activation='relu')(input_img)\n",
        "encoded = Dense(128, activation='relu')(encoded)\n",
        "encoded = Dense(64, activation='relu')(encoded)\n",
        "\n",
        "decoded = Dense(128, activation='relu')(encoded)\n",
        "decoded = Dense(256, activation='relu')(decoded)\n",
        "decoded = Dense(784, activation='sigmoid')(decoded)\n",
        "\n",
        "autoencoder = Model(input_img, decoded)\n",
        "encoder = Model(input_img, encoded)\n",
        "encoded_input = Input(shape=(encoding_dim,))\n",
        "\n",
        "decoder_layer = autoencoder.layers[-3](encoded_input)\n",
        "decoder_layer = autoencoder.layers[-2](decoder_layer)\n",
        "decoder_layer = autoencoder.layers[-1](decoder_layer)\n",
        "\n",
        "decoder = Model(encoded_input, decoder_layer)"
      ],
      "execution_count": 0,
      "outputs": []
    },
    {
      "cell_type": "code",
      "metadata": {
        "id": "Rr7zcP_YAU1Z",
        "colab_type": "code",
        "colab": {}
      },
      "source": [
        "autoencoder.compile(optimizer='adadelta', loss='binary_crossentropy')"
      ],
      "execution_count": 0,
      "outputs": []
    },
    {
      "cell_type": "code",
      "metadata": {
        "id": "ee9XUZYXDU18",
        "colab_type": "code",
        "colab": {
          "base_uri": "https://localhost:8080/",
          "height": 86
        },
        "outputId": "ed4a6fa0-24ae-4bf3-9566-194e93dc98b4"
      },
      "source": [
        "(x_train, _), (x_test, _) = mnist.load_data()\n",
        "# normalize\n",
        "x_train = x_train.astype('float32')/255\n",
        "x_test = x_test.astype('float32')/255\n",
        "\n",
        "x_train = x_train.reshape((len(x_train), (np.prod(x_train.shape[1:]))))\n",
        "x_test = x_test.reshape((len(x_test), (np.prod(x_test.shape[1:]))))\n",
        "\n",
        "print(f'x_train shape = {x_train.shape}')\n",
        "print(f'x_test shape = {x_test.shape}')\n"
      ],
      "execution_count": 11,
      "outputs": [
        {
          "output_type": "stream",
          "text": [
            "Downloading data from https://s3.amazonaws.com/img-datasets/mnist.npz\n",
            "11493376/11490434 [==============================] - 0s 0us/step\n",
            "x_train shape = (60000, 784)\n",
            "x_test shape = (10000, 784)\n"
          ],
          "name": "stdout"
        }
      ]
    },
    {
      "cell_type": "code",
      "metadata": {
        "id": "8rbAJB5wEouo",
        "colab_type": "code",
        "colab": {
          "base_uri": "https://localhost:8080/",
          "height": 1000
        },
        "outputId": "a775a670-f5af-4e1d-d169-e29e2f25c89b"
      },
      "source": [
        "# Fit data\n",
        "# train\n",
        "autoencoder.fit(x_train, x_train, epochs=50, batch_size=256, shuffle=True,\n",
        "               validation_data=(x_test, x_test))"
      ],
      "execution_count": 12,
      "outputs": [
        {
          "output_type": "stream",
          "text": [
            "Train on 60000 samples, validate on 10000 samples\n",
            "Epoch 1/50\n",
            "60000/60000 [==============================] - 7s 113us/step - loss: 0.3350 - val_loss: 0.2612\n",
            "Epoch 2/50\n",
            "60000/60000 [==============================] - 6s 106us/step - loss: 0.2468 - val_loss: 0.2288\n",
            "Epoch 3/50\n",
            "60000/60000 [==============================] - 6s 106us/step - loss: 0.2189 - val_loss: 0.2092\n",
            "Epoch 4/50\n",
            "60000/60000 [==============================] - 6s 105us/step - loss: 0.1997 - val_loss: 0.1897\n",
            "Epoch 5/50\n",
            "60000/60000 [==============================] - 6s 108us/step - loss: 0.1840 - val_loss: 0.1771\n",
            "Epoch 6/50\n",
            "60000/60000 [==============================] - 6s 106us/step - loss: 0.1746 - val_loss: 0.1688\n",
            "Epoch 7/50\n",
            "60000/60000 [==============================] - 6s 105us/step - loss: 0.1650 - val_loss: 0.1609\n",
            "Epoch 8/50\n",
            "60000/60000 [==============================] - 6s 107us/step - loss: 0.1565 - val_loss: 0.1529\n",
            "Epoch 9/50\n",
            "60000/60000 [==============================] - 6s 108us/step - loss: 0.1505 - val_loss: 0.1475\n",
            "Epoch 10/50\n",
            "60000/60000 [==============================] - 6s 106us/step - loss: 0.1457 - val_loss: 0.1423\n",
            "Epoch 11/50\n",
            "60000/60000 [==============================] - 6s 104us/step - loss: 0.1413 - val_loss: 0.1386\n",
            "Epoch 12/50\n",
            "60000/60000 [==============================] - 6s 107us/step - loss: 0.1377 - val_loss: 0.1353\n",
            "Epoch 13/50\n",
            "60000/60000 [==============================] - 6s 106us/step - loss: 0.1344 - val_loss: 0.1307\n",
            "Epoch 14/50\n",
            "60000/60000 [==============================] - 6s 108us/step - loss: 0.1315 - val_loss: 0.1283\n",
            "Epoch 15/50\n",
            "60000/60000 [==============================] - 6s 108us/step - loss: 0.1290 - val_loss: 0.1263\n",
            "Epoch 16/50\n",
            "60000/60000 [==============================] - 6s 107us/step - loss: 0.1269 - val_loss: 0.1250\n",
            "Epoch 17/50\n",
            "60000/60000 [==============================] - 6s 106us/step - loss: 0.1250 - val_loss: 0.1215\n",
            "Epoch 18/50\n",
            "60000/60000 [==============================] - 6s 108us/step - loss: 0.1233 - val_loss: 0.1208\n",
            "Epoch 19/50\n",
            "60000/60000 [==============================] - 6s 107us/step - loss: 0.1216 - val_loss: 0.1202\n",
            "Epoch 20/50\n",
            "60000/60000 [==============================] - 6s 106us/step - loss: 0.1201 - val_loss: 0.1176\n",
            "Epoch 21/50\n",
            "60000/60000 [==============================] - 6s 106us/step - loss: 0.1188 - val_loss: 0.1162\n",
            "Epoch 22/50\n",
            "60000/60000 [==============================] - 6s 106us/step - loss: 0.1176 - val_loss: 0.1176\n",
            "Epoch 23/50\n",
            "60000/60000 [==============================] - 6s 107us/step - loss: 0.1164 - val_loss: 0.1145\n",
            "Epoch 24/50\n",
            "60000/60000 [==============================] - 6s 107us/step - loss: 0.1153 - val_loss: 0.1120\n",
            "Epoch 25/50\n",
            "60000/60000 [==============================] - 6s 107us/step - loss: 0.1142 - val_loss: 0.1130\n",
            "Epoch 26/50\n",
            "60000/60000 [==============================] - 6s 107us/step - loss: 0.1133 - val_loss: 0.1100\n",
            "Epoch 27/50\n",
            "60000/60000 [==============================] - 6s 107us/step - loss: 0.1123 - val_loss: 0.1114\n",
            "Epoch 28/50\n",
            "60000/60000 [==============================] - 6s 107us/step - loss: 0.1114 - val_loss: 0.1095\n",
            "Epoch 29/50\n",
            "60000/60000 [==============================] - 6s 107us/step - loss: 0.1105 - val_loss: 0.1070\n",
            "Epoch 30/50\n",
            "60000/60000 [==============================] - 6s 106us/step - loss: 0.1095 - val_loss: 0.1086\n",
            "Epoch 31/50\n",
            "60000/60000 [==============================] - 6s 107us/step - loss: 0.1087 - val_loss: 0.1094\n",
            "Epoch 32/50\n",
            "60000/60000 [==============================] - 6s 106us/step - loss: 0.1080 - val_loss: 0.1077\n",
            "Epoch 33/50\n",
            "60000/60000 [==============================] - 6s 107us/step - loss: 0.1071 - val_loss: 0.1052\n",
            "Epoch 34/50\n",
            "60000/60000 [==============================] - 6s 107us/step - loss: 0.1065 - val_loss: 0.1040\n",
            "Epoch 35/50\n",
            "60000/60000 [==============================] - 6s 107us/step - loss: 0.1059 - val_loss: 0.1053\n",
            "Epoch 36/50\n",
            "60000/60000 [==============================] - 6s 106us/step - loss: 0.1052 - val_loss: 0.1042\n",
            "Epoch 37/50\n",
            "60000/60000 [==============================] - 6s 107us/step - loss: 0.1045 - val_loss: 0.1033\n",
            "Epoch 38/50\n",
            "60000/60000 [==============================] - 6s 107us/step - loss: 0.1041 - val_loss: 0.1033\n",
            "Epoch 39/50\n",
            "60000/60000 [==============================] - 6s 106us/step - loss: 0.1036 - val_loss: 0.1018\n",
            "Epoch 40/50\n",
            "60000/60000 [==============================] - 6s 105us/step - loss: 0.1030 - val_loss: 0.1026\n",
            "Epoch 41/50\n",
            "60000/60000 [==============================] - 6s 106us/step - loss: 0.1026 - val_loss: 0.1017\n",
            "Epoch 42/50\n",
            "60000/60000 [==============================] - 6s 106us/step - loss: 0.1020 - val_loss: 0.1006\n",
            "Epoch 43/50\n",
            "60000/60000 [==============================] - 6s 107us/step - loss: 0.1017 - val_loss: 0.0989\n",
            "Epoch 44/50\n",
            "60000/60000 [==============================] - 6s 106us/step - loss: 0.1012 - val_loss: 0.1012\n",
            "Epoch 45/50\n",
            "60000/60000 [==============================] - 6s 107us/step - loss: 0.1008 - val_loss: 0.1009\n",
            "Epoch 46/50\n",
            "60000/60000 [==============================] - 6s 106us/step - loss: 0.1005 - val_loss: 0.0988\n",
            "Epoch 47/50\n",
            "60000/60000 [==============================] - 6s 107us/step - loss: 0.1001 - val_loss: 0.0997\n",
            "Epoch 48/50\n",
            "60000/60000 [==============================] - 6s 106us/step - loss: 0.0997 - val_loss: 0.0975\n",
            "Epoch 49/50\n",
            "60000/60000 [==============================] - 6s 105us/step - loss: 0.0994 - val_loss: 0.0983\n",
            "Epoch 50/50\n",
            "60000/60000 [==============================] - 6s 105us/step - loss: 0.0989 - val_loss: 0.0987\n"
          ],
          "name": "stdout"
        },
        {
          "output_type": "execute_result",
          "data": {
            "text/plain": [
              "<keras.callbacks.callbacks.History at 0x7f4aff2256d8>"
            ]
          },
          "metadata": {
            "tags": []
          },
          "execution_count": 12
        }
      ]
    },
    {
      "cell_type": "code",
      "metadata": {
        "id": "d6trH4CIFACR",
        "colab_type": "code",
        "colab": {
          "base_uri": "https://localhost:8080/",
          "height": 185
        },
        "outputId": "b03f06d2-1d2a-4c43-8b9d-936c0c87aedb"
      },
      "source": [
        "encoded_imgs = encoder.predict(x_test)\n",
        "decoded_imgs = decoder.predict(encoded_imgs)"
      ],
      "execution_count": 1,
      "outputs": [
        {
          "output_type": "error",
          "ename": "NameError",
          "evalue": "ignored",
          "traceback": [
            "\u001b[0;31m---------------------------------------------------------------------------\u001b[0m",
            "\u001b[0;31mNameError\u001b[0m                                 Traceback (most recent call last)",
            "\u001b[0;32m<ipython-input-1-b2802e5df298>\u001b[0m in \u001b[0;36m<module>\u001b[0;34m()\u001b[0m\n\u001b[0;32m----> 1\u001b[0;31m \u001b[0mencoded_imgs\u001b[0m \u001b[0;34m=\u001b[0m \u001b[0mencoder\u001b[0m\u001b[0;34m.\u001b[0m\u001b[0mpredict\u001b[0m\u001b[0;34m(\u001b[0m\u001b[0mx_test\u001b[0m\u001b[0;34m)\u001b[0m\u001b[0;34m\u001b[0m\u001b[0;34m\u001b[0m\u001b[0m\n\u001b[0m\u001b[1;32m      2\u001b[0m \u001b[0mdecoded_imgs\u001b[0m \u001b[0;34m=\u001b[0m \u001b[0mdecoder\u001b[0m\u001b[0;34m.\u001b[0m\u001b[0mpredict\u001b[0m\u001b[0;34m(\u001b[0m\u001b[0mencoded_imgs\u001b[0m\u001b[0;34m)\u001b[0m\u001b[0;34m\u001b[0m\u001b[0;34m\u001b[0m\u001b[0m\n",
            "\u001b[0;31mNameError\u001b[0m: name 'encoder' is not defined"
          ]
        }
      ]
    },
    {
      "cell_type": "code",
      "metadata": {
        "id": "yc7xizogfetS",
        "colab_type": "code",
        "colab": {}
      },
      "source": [
        ""
      ],
      "execution_count": 0,
      "outputs": []
    }
  ]
}